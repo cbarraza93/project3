{
 "cells": [
  {
   "cell_type": "code",
   "execution_count": null,
   "id": "b2c5b961-dc48-4ef7-b00e-1986d72f90c3",
   "metadata": {},
   "outputs": [],
   "source": [
    "# Dependencies\n",
    "import pandas as pd\n",
    "import numpy as np\n",
    "import requests\n",
    "import json\n",
    "\n",
    "# Google API Key\n",
    "from config import gkey"
   ]
  },
  {
   "cell_type": "code",
   "execution_count": null,
   "id": "59defef8-1aa1-481c-8487-2bf971cad214",
   "metadata": {},
   "outputs": [],
   "source": [
    "# Import cities file as DataFrame\n",
    "cost_living = pd.read_csv(\"../Resources/cities.csv\")\n",
    "cost_living.head()"
   ]
  },
  {
   "cell_type": "code",
   "execution_count": null,
   "id": "81baa72f-b6ec-4034-b376-93bf2931d12b",
   "metadata": {},
   "outputs": [],
   "source": []
  },
  {
   "cell_type": "code",
   "execution_count": null,
   "id": "d354df5c-f6be-45dc-9a68-df5f07a4db41",
   "metadata": {},
   "outputs": [],
   "source": []
  }
 ],
 "metadata": {
  "kernelspec": {
   "display_name": "Python 3 (ipykernel)",
   "language": "python",
   "name": "python3"
  },
  "language_info": {
   "codemirror_mode": {
    "name": "ipython",
    "version": 3
   },
   "file_extension": ".py",
   "mimetype": "text/x-python",
   "name": "python",
   "nbconvert_exporter": "python",
   "pygments_lexer": "ipython3",
   "version": "3.9.7"
  }
 },
 "nbformat": 4,
 "nbformat_minor": 5
}
